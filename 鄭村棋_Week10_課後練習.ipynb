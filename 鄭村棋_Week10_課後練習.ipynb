{
  "nbformat": 4,
  "nbformat_minor": 0,
  "metadata": {
    "colab": {
      "name": "鄭村棋_Week10_課後練習.ipynb",
      "provenance": [],
      "authorship_tag": "ABX9TyN9gViOJJ7zHK5q3bA1HJZq",
      "include_colab_link": true
    },
    "kernelspec": {
      "name": "python3",
      "display_name": "Python 3"
    },
    "language_info": {
      "name": "python"
    }
  },
  "cells": [
    {
      "cell_type": "markdown",
      "metadata": {
        "id": "view-in-github",
        "colab_type": "text"
      },
      "source": [
        "<a href=\"https://colab.research.google.com/github/A109010165/computational-thinking-and-program-design/blob/main/%E9%84%AD%E6%9D%91%E6%A3%8B_Week10_%E8%AA%B2%E5%BE%8C%E7%B7%B4%E7%BF%92.ipynb\" target=\"_parent\"><img src=\"https://colab.research.google.com/assets/colab-badge.svg\" alt=\"Open In Colab\"/></a>"
      ]
    },
    {
      "cell_type": "code",
      "metadata": {
        "id": "hxI2re-SQq5f",
        "outputId": "706f9463-68ae-4cae-acdc-eb58c2005bbb",
        "colab": {
          "base_uri": "https://localhost:8080/"
        }
      },
      "source": [
        "print(\"哈囉，大家好。我叫chichi，是一個帥氣的聊天機器人。\")\n",
        "hobby = \"我很喜歡吃美食，也喜歡打羽球。很高興認識大家，還請大家多多關照。\"\n",
        "print( hobby )\n",
        "name = input(\"嗨！妳好，請問你叫甚麼名子？: \")\n",
        "print(\"你好\", name, \"很高興認識你\")\n",
        "year = input(\"請問一下今年是西元2021年，那是民國幾年呢？ \")\n",
        "print(\"對！應該沒錯，謝謝妳！\")\n",
        "myage = int(input(\"那你猜猜看我今年幾歲？ \"))\n",
        "print(\"哦?你挺會猜的嘛～我今年的確\", myage)\n",
        "nyears = 10 - myage\n",
        "print(\"我再\", nyears, \"年就滿10歲了。\")\n",
        "print(\"到時候是西元\", int(year) + nyears + 1911, \"年\")\n",
        "print(\"也就是民國\", int(year) + nyears, \"年\")\n",
        "print(\"我喜歡喝咖啡，也喜歡到處走走。\")\n",
        "food = input(\"你呢。你最喜歡的食物是什麼？： \")\n",
        "print(\"我也喜歡\", food)\n",
        "question = \"你多愛吃\" + food + \"?: \"\n",
        "howoften = input(question)\n",
        "print(\"哦～飲食要均衡啦...\")\n",
        "print(\"雖然我也都隨便吃吃哈哈哈\")\n",
        "animal = input(\"我最喜歡的動物是狗。你呢？； \")\n",
        "print(\"我也喜歡\", animal)\n",
        "print(\"不知道\", animal, \"喜不喜歡吃\", food, \"?\")\n",
        "feeling = input(\"你今天心情如何？ \")\n",
        "print(\"可以告訴我，你\", feeling, \"的原因嗎。 \")\n",
        "reason = input(\"為什麼 \")\n",
        "print(\"原來如此。\")\n",
        "print(\"那就祝你週末愉快囉！\")\n",
        "print(\"抱歉現在有點累了，下次再聊!!\")\n",
        "print(\"再見\", name, \"我非常享受與你的聊天！\")"
      ],
      "execution_count": null,
      "outputs": [
        {
          "output_type": "stream",
          "text": [
            "哈囉，大家好。我叫chichi，是一個帥氣的聊天機器人。\n",
            "我很喜歡吃美食，也喜歡打羽球。很高興認識大家，還請大家多多關照。\n",
            "嗨！妳好，請問你叫甚麼名子？: wefwef\n",
            "你好 wefwef 很高興認識你\n",
            "請問一下今年是西元2021年，那是民國幾年呢？ 12\n",
            "對！應該沒錯，謝謝妳！\n",
            "那你猜猜看我今年幾歲？ 12\n",
            "哦?你挺會猜的嘛～我今年的確 12\n",
            "我再 -2 年就滿10歲了。\n",
            "到時候是西元 1921 年\n",
            "也就是民國 10 年\n",
            "我喜歡喝咖啡，也喜歡到處走走。\n",
            "你呢。你最喜歡的食物是什麼？： ffsdwe\n",
            "我也喜歡 ffsdwe\n",
            "你多愛吃ffsdwe?: wegwg\n",
            "哦～飲食要均衡啦...\n",
            "雖然我也都隨便吃吃哈哈哈\n",
            "我最喜歡的動物是長頸鹿。你呢？； wefwef\n",
            "我不喜歡 wefwef\n",
            "不知道 wefwef 喜不喜歡吃 ffsdwe ?\n",
            "你今天心情如何？ wefw\n",
            "可以告訴我，你 wefw 的原因嗎。 \n"
          ],
          "name": "stdout"
        }
      ]
    }
  ]
}