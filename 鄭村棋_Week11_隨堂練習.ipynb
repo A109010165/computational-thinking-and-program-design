{
  "nbformat": 4,
  "nbformat_minor": 0,
  "metadata": {
    "colab": {
      "name": "鄭村棋_Week11_隨堂練習.ipynb",
      "provenance": [],
      "authorship_tag": "ABX9TyMZCltnY6A9MYynFu0JgeH9",
      "include_colab_link": true
    },
    "kernelspec": {
      "name": "python3",
      "display_name": "Python 3"
    },
    "language_info": {
      "name": "python"
    }
  },
  "cells": [
    {
      "cell_type": "markdown",
      "metadata": {
        "id": "view-in-github",
        "colab_type": "text"
      },
      "source": [
        "<a href=\"https://colab.research.google.com/github/A109010165/computational-thinking-and-program-design/blob/main/%E9%84%AD%E6%9D%91%E6%A3%8B_Week11_%E9%9A%A8%E5%A0%82%E7%B7%B4%E7%BF%92.ipynb\" target=\"_parent\"><img src=\"https://colab.research.google.com/assets/colab-badge.svg\" alt=\"Open In Colab\"/></a>"
      ]
    },
    {
      "cell_type": "code",
      "metadata": {
        "colab": {
          "base_uri": "https://localhost:8080/"
        },
        "id": "a3PK9tN1SyAB",
        "outputId": "2ba8f98f-5845-49d2-918c-b3643b9fba94"
      },
      "source": [
        "id_last_digit=input(\"請輸入您身分證字號的尾數\")\n",
        "ans=int(id_last_digit)%2==1\n",
        "print(\"身分證尾數除以2的餘數是否為1:\",ans)"
      ],
      "execution_count": 3,
      "outputs": [
        {
          "output_type": "stream",
          "text": [
            "請輸入您身分證字號的尾數4\n",
            "身分證尾數除以2的餘數是否為1: False\n"
          ],
          "name": "stdout"
        }
      ]
    },
    {
      "cell_type": "code",
      "metadata": {
        "id": "-eSXVDLHSsrv"
      },
      "source": [
        ""
      ],
      "execution_count": null,
      "outputs": []
    }
  ]
}