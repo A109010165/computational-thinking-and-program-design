{
  "nbformat": 4,
  "nbformat_minor": 0,
  "metadata": {
    "colab": {
      "name": "鄭村棋_Week8_課後練習.ipynb",
      "provenance": [],
      "collapsed_sections": [],
      "authorship_tag": "ABX9TyPS5wPLwD56074fibVQQbc9",
      "include_colab_link": true
    },
    "kernelspec": {
      "name": "python3",
      "display_name": "Python 3"
    },
    "language_info": {
      "name": "python"
    }
  },
  "cells": [
    {
      "cell_type": "markdown",
      "metadata": {
        "id": "view-in-github",
        "colab_type": "text"
      },
      "source": [
        "<a href=\"https://colab.research.google.com/github/A109010165/computational-thinking-and-program-design/blob/main/%E9%84%AD%E6%9D%91%E6%A3%8B_Week8_%E8%AA%B2%E5%BE%8C%E7%B7%B4%E7%BF%92.ipynb\" target=\"_parent\"><img src=\"https://colab.research.google.com/assets/colab-badge.svg\" alt=\"Open In Colab\"/></a>"
      ]
    },
    {
      "cell_type": "code",
      "metadata": {
        "colab": {
          "base_uri": "https://localhost:8080/"
        },
        "id": "RX-O-iA7Oyl2",
        "outputId": "47eb4b37-d3bf-45f9-add8-9711d27b3da9"
      },
      "source": [
        "//A109010165 鄭村棋\n",
        "a,b,c,d,e,f=eval(input(\"Enter a number(Example:1,2,3,4,5,6):\"))\n",
        "print(f\"A1:\")\n",
        "a=a//3\n",
        "b=b+a\n",
        "f=f+a\n",
        "print(f\"a={a},b={b},c={c},d={d},e={e},f={f}\")\n",
        "print(f\"A2:\")\n",
        "b=b//3\n",
        "a=a+b\n",
        "c=c+b\n",
        "print(f\"a={a},b={b},c={c},d={d},e={e},f={f}\")\n",
        "print(f\"A3:\")\n",
        "c=c//3\n",
        "b=b+c\n",
        "d=d+c\n",
        "print(f\"a={a},b={b},c={c},d={d},e={e},f={f}\")\n",
        "print(f\"A4:\")\n",
        "d=d//3\n",
        "c=c+d\n",
        "e=e+c\n",
        "print(f\"a={a},b={b},c={c},d={d},e={e},f={f}\")"
      ],
      "execution_count": 12,
      "outputs": [
        {
          "output_type": "stream",
          "text": [
            "Enter a number(Example:1,2,3,4,5,6):1,2,3,4,5,6\n",
            "A1:\n",
            "a=1,b=3,c=3,d=4,e=5,f=7\n",
            "A2:\n",
            "a=4,b=3,c=6,d=4,e=5,f=7\n",
            "A3:\n",
            "a=4,b=9,c=6,d=10,e=5,f=7\n",
            "A4:\n",
            "a=4,b=9,c=16,d=10,e=21,f=7\n"
          ],
          "name": "stdout"
        }
      ]
    }
  ]
}